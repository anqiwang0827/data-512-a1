{
 "cells": [
  {
   "cell_type": "markdown",
   "metadata": {
    "scrolled": true
   },
   "source": [
    "# English Wikipedia page views, 2008 - 2017  \n",
    "\n",
    "### Angel Wang  \n",
    "\n",
    "The goal of this project is to construct, analyze, and publish a dataset of monthly traffic on English Wikipedia from July 1 2008 through September 30 2017 and create a visulization of the dataset. Following are the steps for data acquisition, data processing and data analysis.\n",
    "The module will then output:  \n",
    "1) 5 source data files in JSON format.  \n",
    "2) 1 final data file in CSV format.  \n",
    "3) 1 .png image of the visualization.  "
   ]
  },
  {
   "cell_type": "markdown",
   "metadata": {},
   "source": [
    "### Import Necessary Libraries"
   ]
  },
  {
   "cell_type": "code",
   "execution_count": 21,
   "metadata": {},
   "outputs": [],
   "source": [
    "#import libraries\n",
    "import requests\n",
    "import json\n",
    "from datetime import datetime\n",
    "from matplotlib.dates import DateFormatter\n",
    "import pandas as pd\n",
    "import numpy as np\n",
    "import matplotlib.patches as mpatches\n",
    "import matplotlib.pyplot as plt\n",
    "%matplotlib inline  "
   ]
  },
  {
   "cell_type": "markdown",
   "metadata": {},
   "source": [
    "## Step 1 Data acquisition"
   ]
  },
  {
   "cell_type": "markdown",
   "metadata": {},
   "source": [
    "Collect data from two different API endpoints, the Pageviews API (mobile-web, mobile-app, desktop) and the Pagecounts API (mobile-site, desktop).  \n",
    "And then save the raw results into 5 separate JSON source data files (one file per API query) before continuing to step 2."
   ]
  },
  {
   "cell_type": "code",
   "execution_count": 22,
   "metadata": {},
   "outputs": [],
   "source": [
    "# Collect data from Pageviews API for mobile-web traffic data from Jul 2015 to Oct 2017.\n",
    "endpoint = 'https://wikimedia.org/api/rest_v1/metrics/pageviews/aggregate/{project}/{access}/{agent}/{granularity}/{start}/{end}'\n",
    "headers={'User-Agent' : 'https://github.com/anqiwang0827', 'From' : 'anqiw2@uw.edu'}\n",
    "params = {'project' : 'en.wikipedia.org',\n",
    "            'access' : 'mobile-web',\n",
    "            'agent' : 'user',\n",
    "            'granularity' : 'monthly',\n",
    "            'start' : '2015070100',\n",
    "            'end' : '2017100100'\n",
    "            }\n",
    "pageview_mobileweb_call = requests.get(endpoint.format(**params))\n",
    "pageview_mobileweb = pageview_mobileweb_call.json()\n",
    "pageviews_mobileweb_201507_201709 = json.dumps(pageview_mobileweb)\n",
    "\n",
    "# Save raw data results as Json file pageviews_mobile-web_201507-201709.json\n",
    "with open('pageviews_mobile-web_201507-201709.json', 'w') as file:\n",
    "     json.dump(pageviews_mobileweb_201507_201709, file)"
   ]
  },
  {
   "cell_type": "code",
   "execution_count": 23,
   "metadata": {},
   "outputs": [],
   "source": [
    "# Collect data from Pageviews API for mobile-app traffic data from Jul 2015 to Oct 2017.\n",
    "endpoint = 'https://wikimedia.org/api/rest_v1/metrics/pageviews/aggregate/{project}/{access}/{agent}/{granularity}/{start}/{end}'\n",
    "headers={'User-Agent' : 'https://github.com/anqiwang0827', 'From' : 'anqiw2@uw.edu'}\n",
    "params = {'project' : 'en.wikipedia.org',\n",
    "            'access' : 'mobile-app',\n",
    "            'agent' : 'user',\n",
    "            'granularity' : 'monthly',\n",
    "            'start' : '2015070100',\n",
    "            'end' : '2017100100'\n",
    "            }\n",
    "pageview_mobileapp_call = requests.get(endpoint.format(**params))\n",
    "pageview_mobileapp = pageview_mobileapp_call.json()\n",
    "pageviews_mobileapp_201507_201709 = json.dumps(pageview_mobileapp)\n",
    "\n",
    "# Save raw data results as Json file pageviews_mobile-app_201507-201709.json\n",
    "with open('pageviews_mobile-app_201507-201709.json', 'w') as file2:\n",
    "     json.dump(pageviews_mobileapp_201507_201709, file2)"
   ]
  },
  {
   "cell_type": "code",
   "execution_count": 24,
   "metadata": {},
   "outputs": [],
   "source": [
    "# Collect data from Pageviews API for desktop traffic data from Jul 2015 to Oct 2017.\n",
    "endpoint = 'https://wikimedia.org/api/rest_v1/metrics/pageviews/aggregate/{project}/{access}/{agent}/{granularity}/{start}/{end}'\n",
    "headers={'User-Agent' : 'https://github.com/anqiwang0827', 'From' : 'anqiw2@uw.edu'}\n",
    "params = {'project' : 'en.wikipedia.org',\n",
    "            'access' : 'desktop',\n",
    "            'agent' : 'user',\n",
    "            'granularity' : 'monthly',\n",
    "            'start' : '2015070100',\n",
    "            'end' : '2017100100'\n",
    "            }\n",
    "pageview_desktop_call = requests.get(endpoint.format(**params))\n",
    "pageview_desktop = pageview_desktop_call.json()\n",
    "pageviews_desktop_201507_201709 = json.dumps(pageview_desktop)\n",
    "\n",
    "# Save raw data results as Json file pageviews_desktop_201507-201709.json\n",
    "with open('pageviews_desktop_201507-201709.json', 'w') as file3:\n",
    "     json.dump(pageviews_desktop_201507_201709, file3)"
   ]
  },
  {
   "cell_type": "code",
   "execution_count": 25,
   "metadata": {},
   "outputs": [],
   "source": [
    "# Collect data from Pagecounts API for mobile site traffic data from Oct 2014 to Jul 2017.\n",
    "endpoint = 'https://wikimedia.org/api/rest_v1/metrics/legacy/pagecounts/aggregate/{project}/{access-site}/{granularity}/{start}/{end}'\n",
    "headers={'User-Agent' : 'https://github.com/anqiwang0827', 'From' : 'anqiw2@uw.edu'}\n",
    "params = {'project' : 'en.wikipedia.org',\n",
    "            'access-site' : 'mobile-site',\n",
    "            'granularity' : 'monthly',\n",
    "            'start' : '2014100100',\n",
    "            'end' : '2016080100'\n",
    "            }\n",
    "pagecounts_mobile_site_call = requests.get(endpoint.format(**params))\n",
    "pagecounts_mobile_site = pagecounts_mobile_site_call.json()\n",
    "pagecounts_mobile_site_201410_201607 = json.dumps(pagecounts_mobile_site)\n",
    "\n",
    "# Save raw data results as Json file pagecounts_mobile-site_201410-201607.json\n",
    "with open('pagecounts_mobile-site_201410-201607.json', 'w') as file4:\n",
    "     json.dump(pagecounts_mobile_site_201410_201607, file4)"
   ]
  },
  {
   "cell_type": "code",
   "execution_count": 26,
   "metadata": {},
   "outputs": [],
   "source": [
    "# Collect data from Pagecounts API for desktop site traffic data from jan 2008 to Jul 2017.\n",
    "endpoint = 'https://wikimedia.org/api/rest_v1/metrics/legacy/pagecounts/aggregate/{project}/{access-site}/{granularity}/{start}/{end}'\n",
    "headers={'User-Agent' : 'https://github.com/anqiwang0827', 'From' : 'anqiw2@uw.edu'}\n",
    "params = {'project' : 'en.wikipedia.org',\n",
    "            'access-site' : 'desktop-site',\n",
    "            'granularity' : 'monthly',\n",
    "            'start' : '2008010100',\n",
    "            'end' : '2016080100'\n",
    "            }\n",
    "pagecounts_desktop_site_call = requests.get(endpoint.format(**params))\n",
    "pagecounts_desktop_site = pagecounts_desktop_site_call.json()\n",
    "pagecounts_desktop_site_200801_201607 = json.dumps(pagecounts_desktop_site)\n",
    "\n",
    "# Save raw data results as Json file pagecounts_desktop-site_200801-201607.json\n",
    "with open('pagecounts_desktop-site_200801-201607.json', 'w') as file5:\n",
    "     json.dump(pagecounts_desktop_site_200801_201607, file5)"
   ]
  },
  {
   "cell_type": "markdown",
   "metadata": {},
   "source": [
    "## Step 2 Data processing"
   ]
  },
  {
   "cell_type": "markdown",
   "metadata": {},
   "source": [
    "The Step 2 includes series of processing steps on these data files needed in order to prepare them for analysis. At the end of this step, a single CSV-formatted data file will be saved as en_wikipedia_traffic_200801_201709.csv.\n",
    "\n",
    "The CSV file combined all the data from previous step with the following headers:  \n",
    "\n",
    "Column\t                (Value)   \n",
    "year\t                (YYYY)  \n",
    "month\t                (MM)  \n",
    "pagecount_all_views\t    (num_views)  \n",
    "pagecount_desktop_views\t(num_views)  \n",
    "pagecount_mobile_views\t(num_views)  \n",
    "pageview_all_views\t    (num_views)  \n",
    "pageview_desktop_views\t(num_views)  \n",
    "pageview_mobile_views\t(num_views)  \n"
   ]
  },
  {
   "cell_type": "code",
   "execution_count": 27,
   "metadata": {},
   "outputs": [],
   "source": [
    "# get items in api raw data\n",
    "df_pv_mw = pd.DataFrame(pageview_mobileweb)\n",
    "df_pv_ma = pd.DataFrame(pageview_mobileapp)\n",
    "df_pv_dk = pd.DataFrame(pageview_desktop)\n",
    "df_pc_ms = pd.DataFrame(pagecounts_mobile_site)\n",
    "df_pc_ds = pd.DataFrame(pagecounts_desktop_site)\n",
    "df_pv_mw_items = df_pv_mw['items']\n",
    "df_pv_ma_items = df_pv_ma['items']\n",
    "df_pv_dk_items = df_pv_dk['items']\n",
    "df_pc_ms_items = df_pc_ms['items']\n",
    "df_pc_ds_items = df_pc_ds['items']"
   ]
  },
  {
   "cell_type": "code",
   "execution_count": 28,
   "metadata": {},
   "outputs": [],
   "source": [
    "# get timestamp and views from pageview API\n",
    "Temp1_pv_mw = []\n",
    "Temp2_pv_mw = []\n",
    "Temp3_pv_mw = []\n",
    "for x in range(0,len(df_pv_mw_items)):\n",
    "    Temp1_pv_mw.append(df_pv_mw['items'][x])\n",
    "    Temp2_pv_mw.append(Temp1_pv_mw[x]['views'])\n",
    "    Temp3_pv_mw.append(Temp1_pv_mw[x]['timestamp'])\n",
    "    \n",
    "Temp1_pv_ma = []\n",
    "Temp2_pv_ma = []\n",
    "Temp3_pv_ma = []\n",
    "for x in range(0,len(df_pv_ma_items)):\n",
    "    Temp1_pv_ma.append(df_pv_ma['items'][x])\n",
    "    Temp2_pv_ma.append(Temp1_pv_ma[x]['views'])\n",
    "    Temp3_pv_ma.append(Temp1_pv_ma[x]['timestamp'])\n",
    "    \n",
    "Temp1_pv_dk = []\n",
    "Temp2_pv_dk = []\n",
    "Temp3_pv_dk = []\n",
    "for x in range(0,len(df_pv_dk_items)):\n",
    "    Temp1_pv_dk.append(df_pv_dk['items'][x])\n",
    "    Temp2_pv_dk.append(Temp1_pv_dk[x]['views'])\n",
    "    Temp3_pv_dk.append(Temp1_pv_dk[x]['timestamp'])"
   ]
  },
  {
   "cell_type": "code",
   "execution_count": 29,
   "metadata": {},
   "outputs": [],
   "source": [
    "# create pageview dataframe, add mobile traffic together\n",
    "pageview_list = pd.DataFrame(\n",
    "    {'Date':Temp3_pv_mw,\n",
    "     'pageview_all_views': [Temp2_pv_mw[i] + Temp2_pv_ma[i] + Temp2_pv_dk[i] for i in range(len(Temp2_pv_ma))],   \n",
    "     'pageview_desktop_views': Temp2_pv_dk,\n",
    "     'pageview_mobile_views': [Temp2_pv_mw[i] + Temp2_pv_ma[i] for i in range(len(Temp2_pv_ma))]\n",
    "    })"
   ]
  },
  {
   "cell_type": "code",
   "execution_count": 30,
   "metadata": {},
   "outputs": [],
   "source": [
    "# get timestamp and counts from pagecount API\n",
    "Temp1_pc_ms = []\n",
    "Temp2_pc_ms = []\n",
    "Temp3_pc_ms = []\n",
    "for x in range(0,len(df_pc_ms_items)):\n",
    "    Temp1_pc_ms.append(df_pc_ms['items'][x])\n",
    "    Temp2_pc_ms.append(Temp1_pc_ms[x]['count'])\n",
    "    Temp3_pc_ms.append(Temp1_pc_ms[x]['timestamp'])\n",
    "\n",
    "Temp1_pc_ds = []\n",
    "Temp2_pc_ds = []\n",
    "Temp3_pc_ds = []\n",
    "for x in range(0,len(df_pc_ds_items)):\n",
    "    Temp1_pc_ds.append(df_pc_ds['items'][x])\n",
    "    Temp2_pc_ds.append(Temp1_pc_ds[x]['count'])\n",
    "    Temp3_pc_ds.append(Temp1_pc_ds[x]['timestamp'])"
   ]
  },
  {
   "cell_type": "code",
   "execution_count": 31,
   "metadata": {},
   "outputs": [],
   "source": [
    "# create pagecount dataframe\n",
    "pagecount_list_ms = pd.DataFrame(\n",
    "    {'Date':Temp3_pc_ms,\n",
    "     'pagecount_mobile_views': Temp2_pc_ms \n",
    "    })\n",
    "pagecount_list_ds = pd.DataFrame(\n",
    "    {'Date':Temp3_pc_ds,\n",
    "     'pagecount_desktop_views': Temp2_pc_ds \n",
    "    })\n",
    "pagecount_list = pagecount_list_ms.merge(pagecount_list_ds, left_on='Date', right_on='Date', how='outer')\n",
    "pagecount_list['pagecount_all_views'] = pagecount_list['pagecount_mobile_views']+pagecount_list['pagecount_desktop_views']"
   ]
  },
  {
   "cell_type": "code",
   "execution_count": 32,
   "metadata": {},
   "outputs": [
    {
     "name": "stderr",
     "output_type": "stream",
     "text": [
      "/opt/conda/lib/python3.6/site-packages/ipykernel_launcher.py:3: FutureWarning: sort(columns=....) is deprecated, use sort_values(by=.....)\n",
      "  This is separate from the ipykernel package so we can avoid doing imports until\n"
     ]
    }
   ],
   "source": [
    "# combine pagecount and pageview into one dataframe\n",
    "en_wikipedia_traffic = pagecount_list.merge(pageview_list, left_on='Date', right_on='Date', how='outer')\n",
    "en_wikipedia_traffic = en_wikipedia_traffic.sort(['Date'])\n",
    "en_wikipedia_traffic['DateTime']= en_wikipedia_traffic['Date'].apply(lambda x: pd.to_datetime(str(x), format='%Y%m%d%H'))"
   ]
  },
  {
   "cell_type": "code",
   "execution_count": 33,
   "metadata": {},
   "outputs": [],
   "source": [
    "# split Date to Year and Month\n",
    "en_wikipedia_traffic_200801_201709 = en_wikipedia_traffic\n",
    "en_wikipedia_traffic_200801_201709['year']=en_wikipedia_traffic_200801_201709['Date'].str[:4]\n",
    "en_wikipedia_traffic_200801_201709['month']=en_wikipedia_traffic_200801_201709['Date'].str[4:6]\n",
    "en_wikipedia_traffic_200801_201709 = en_wikipedia_traffic_200801_201709[['year', 'month', 'pagecount_all_views', 'pagecount_desktop_views', \n",
    "'pagecount_mobile_views','pageview_all_views','pageview_desktop_views','pageview_mobile_views']]\n",
    "en_wikipedia_traffic_200801_201709 = en_wikipedia_traffic_200801_201709.fillna(0)"
   ]
  },
  {
   "cell_type": "code",
   "execution_count": 34,
   "metadata": {},
   "outputs": [],
   "source": [
    "#write to csv\n",
    "en_wikipedia_traffic_200801_201709.to_csv('en_wikipedia_traffic_200801_201709.csv', sep='\\t',  index = False)"
   ]
  },
  {
   "cell_type": "markdown",
   "metadata": {},
   "source": [
    "## Step 3 Data Processing"
   ]
  },
  {
   "cell_type": "markdown",
   "metadata": {},
   "source": [
    "After creating one final dataset in Step 2. Step 3 will generate a visualization graph. The visualization will plot three traffic metrics: mobile traffic, desktop traffic, and all traffic (mobile + desktop) from both Pageviews API and Pagecounts API from Jan 2008 to Sep 2017."
   ]
  },
  {
   "cell_type": "code",
   "execution_count": 35,
   "metadata": {},
   "outputs": [
    {
     "data": {
      "image/png": "[encoded data removed]",
      "text/plain": [
       "<matplotlib.figure.Figure at 0x7fb9163b0128>"
      ]
     },
     "metadata": {},
     "output_type": "display_data"
    }
   ],
   "source": [
    "# Create the plot\n",
    "fig, ax = plt.subplots(figsize=(15,4))\n",
    "ax.plot_date(en_wikipedia_traffic['DateTime'], en_wikipedia_traffic['pagecount_all_views'], 'k--', color='black')\n",
    "ax.plot_date(en_wikipedia_traffic['DateTime'], en_wikipedia_traffic['pageview_all_views'], 'k',  color='black')\n",
    "ax.plot_date(en_wikipedia_traffic['DateTime'], en_wikipedia_traffic['pagecount_mobile_views'], 'k--', color='blue')\n",
    "ax.plot_date(en_wikipedia_traffic['DateTime'], en_wikipedia_traffic['pagecount_desktop_views'], 'k--',color='green')\n",
    "ax.plot_date(en_wikipedia_traffic['DateTime'], en_wikipedia_traffic['pageview_mobile_views'], 'k', color='blue')\n",
    "ax.plot_date(en_wikipedia_traffic['DateTime'], en_wikipedia_traffic['pageview_desktop_views'], 'k', color='green')\n",
    "plt.suptitle('Page View on Wikipidia *e10', fontsize=20)\n",
    "plt.xlabel('Year', fontsize=18)\n",
    "plt.ylabel('Views', fontsize=16)\n",
    "plt.grid(True)\n",
    "black_patch = mpatches.Patch(color='black', label='total')\n",
    "green_patch = mpatches.Patch(color='green', label='main site')\n",
    "blue_patch = mpatches.Patch(color='blue', label='mobiel site')\n",
    "plt.legend(handles=[green_patch, blue_patch,black_patch], loc='upper left')\n",
    "ax.xaxis.set_major_formatter(DateFormatter('%Y'))"
   ]
  },
  {
   "cell_type": "code",
   "execution_count": 36,
   "metadata": {},
   "outputs": [],
   "source": [
    "# Save the plot\n",
    "fig.savefig('Pave View on Wikipidia.png')"
   ]
  }
 ],
 "metadata": {
  "kernelspec": {
   "display_name": "Python 3",
   "language": "python",
   "name": "python3"
  },
  "language_info": {
   "codemirror_mode": {
    "name": "ipython",
    "version": 3
   },
   "file_extension": ".py",
   "mimetype": "text/x-python",
   "name": "python",
   "nbconvert_exporter": "python",
   "pygments_lexer": "ipython3",
   "version": "3.6.2"
  }
 },
 "nbformat": 4,
 "nbformat_minor": 2
}
